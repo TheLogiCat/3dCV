{
 "cells": [
  {
   "cell_type": "code",
   "execution_count": 32,
   "metadata": {},
   "outputs": [],
   "source": [
    "import torch\n",
    "from torch import nn\n",
    "from torch.utils.data import DataLoader\n",
    "from torchvision import datasets\n",
    "from torchvision.transforms import ToTensor\n",
    "import torchvision.models as models\n",
    "import torch.nn.functional as F\n",
    "import matplotlib.pyplot as plt"
   ]
  },
  {
   "cell_type": "code",
   "execution_count": 33,
   "metadata": {},
   "outputs": [],
   "source": [
    "# 创建训练和测试数据集\n",
    "train_data = datasets.FashionMNIST(root='../data/',\n",
    "                                    train=True,\n",
    "                                    transform=ToTensor(),\n",
    "                                    download=False)\n",
    "test_data = datasets.FashionMNIST(root='../data/', \n",
    "                                  train=False, \n",
    "                                  transform=ToTensor(),\n",
    "                                  download=False)"
   ]
  },
  {
   "cell_type": "code",
   "execution_count": 34,
   "metadata": {},
   "outputs": [],
   "source": [
    "# 创建DataLoader\n",
    "train_dataloader = DataLoader(train_data, batch_size=64, shuffle=True)\n",
    "test_dataloader = DataLoader(test_data, batch_size=64, shuffle=True)"
   ]
  },
  {
   "cell_type": "code",
   "execution_count": 35,
   "metadata": {},
   "outputs": [
    {
     "name": "stdout",
     "output_type": "stream",
     "text": [
      "Simple_CNN(\n",
      "  (conv1): Conv2d(1, 6, kernel_size=(5, 5), stride=(1, 1))\n",
      "  (conv2): Conv2d(6, 16, kernel_size=(5, 5), stride=(1, 1))\n",
      "  (linear1): Linear(in_features=256, out_features=120, bias=True)\n",
      "  (linear2): Linear(in_features=120, out_features=84, bias=True)\n",
      "  (linear3): Linear(in_features=84, out_features=10, bias=True)\n",
      ")\n"
     ]
    }
   ],
   "source": [
    "# 定义一个简单的CNN网络\n",
    "class Simple_CNN(nn.Module):\n",
    "\n",
    "    # nn.Flatten()作为网络的一个​​可序列化层​​(模块)\n",
    "    # 通常用于 nn.Sequential或自定义模型的 __init__中\n",
    "    def __init__(self):\n",
    "        super().__init__()\n",
    "        self.conv1 = nn.Conv2d(in_channels=1, out_channels=6, kernel_size=5)\n",
    "        self.conv2 = nn.Conv2d(in_channels=6, out_channels=16, kernel_size=5)\n",
    "        self.linear1 = nn.Linear(in_features=16 * 16, out_features=120)\n",
    "        self.linear2 = nn.Linear(in_features=120, out_features=84)\n",
    "        self.linear3 = nn.Linear(in_features=84, out_features=10)\n",
    "\n",
    "\n",
    "    # torch.flatten()是一个函数，不会​​作为网络层的一部分保存到模型结构中\n",
    "    def forward(self, x):\n",
    "        # input(N, 1, 28, 28)\n",
    "        c1 = F.relu(self.conv1(x)) # (N, 6, 24, 24)\n",
    "        s2 = F.max_pool2d(c1, (2, 2)) # (N, 6, 12, 12)\n",
    "        c3 = F.relu(self.conv2(s2)) # (N, 16, 8, 8)\n",
    "        s4 = F.max_pool2d(c3, 2) # (N, 16, 4, 4)\n",
    "        s4_flattened = torch.flatten(s4, 1) # (N, 16 * 16)\n",
    "        f5 = F.relu(self.linear1(s4_flattened)) # (N, 120)\n",
    "        f6 = F.relu(self.linear2(f5)) # (N, 84)\n",
    "        logits = self.linear3(f6) # (N, 10)\n",
    "        return logits\n",
    "\n",
    "model = Simple_CNN()\n",
    "print(model)\n",
    "        "
   ]
  },
  {
   "cell_type": "code",
   "execution_count": 36,
   "metadata": {},
   "outputs": [],
   "source": [
    "# 定义损失和优化器\n",
    "loss_fn = nn.CrossEntropyLoss()\n",
    "optimizer = torch.optim.SGD(model.parameters(), lr=0.01)"
   ]
  },
  {
   "cell_type": "code",
   "execution_count": 37,
   "metadata": {},
   "outputs": [],
   "source": [
    "train_losses, test_losses = [], []\n",
    "train_accs, test_accs = [], []"
   ]
  },
  {
   "cell_type": "code",
   "execution_count": 38,
   "metadata": {},
   "outputs": [],
   "source": [
    "# 训练网络\n",
    "batch_size = 64\n",
    "def train_loop(dataloader, model, loss_fn, optimizer):\n",
    "    model.train()\n",
    "    total_loss, correct = 0, 0\n",
    "\n",
    "    # image：形状为 (B, C, H, W)的张量\n",
    "    # label：形状为 (B,)的张量，对应每个样本的标签\n",
    "    for batch_idx, (image, label) in enumerate(dataloader):\n",
    "        pred = model(image)\n",
    "        loss = loss_fn(pred, label)\n",
    "\n",
    "        optimizer.zero_grad()\n",
    "        loss.backward()\n",
    "        optimizer.step()\n",
    "\n",
    "        total_loss += loss.item()\n",
    "        correct += (pred.argmax(1) == label).type(torch.float).sum().item()\n",
    "\n",
    "    avg_loss = total_loss / len(dataloader)\n",
    "    accuracy = correct / len(dataloader.dataset)\n",
    "    train_losses.append(avg_loss)\n",
    "    train_accs.append(accuracy)\n",
    "    print(f\"Train: \\n Accuracy = {100 * accuracy:>.1f}%, Avg Loss = {avg_loss:>.4f}\")\n",
    "    \n"
   ]
  },
  {
   "cell_type": "code",
   "execution_count": 39,
   "metadata": {},
   "outputs": [],
   "source": [
    "def test_loop(dataloader, model, loss_fn):\n",
    "    model.eval()\n",
    "    size = len(dataloader.dataset)\n",
    "    num_batches = len(dataloader)\n",
    "    loss, accuracy = 0, 0\n",
    "\n",
    "    with torch.no_grad():\n",
    "        for image, label in dataloader:\n",
    "            pred = model(image)\n",
    "            loss += loss_fn(pred, label).item()\n",
    "            accuracy += (pred.argmax(1) == label).type(torch.float).sum().item()\n",
    "\n",
    "    loss /= num_batches\n",
    "    accuracy /= size\n",
    "    test_losses.append(loss)\n",
    "    test_accs.append(accuracy)\n",
    "    print(f'Test: \\n Accuracy = {(100*accuracy):>.1f}%, Avg Loss = {loss:>.4f}\\n')"
   ]
  },
  {
   "cell_type": "code",
   "execution_count": 40,
   "metadata": {},
   "outputs": [
    {
     "name": "stdout",
     "output_type": "stream",
     "text": [
      "Epoch:1\n",
      "Train: \n",
      " Accuracy = 27.1%, Avg Loss = 1.9350\n",
      " \n",
      "Test: \n",
      " Accuracy = 56.4%, Avg Loss = 1.0363 \n",
      "\n",
      "Epoch:2\n",
      "Train: \n",
      " Accuracy = 65.5%, Avg Loss = 0.8894\n",
      " \n",
      "Test: \n",
      " Accuracy = 70.0%, Avg Loss = 0.7897 \n",
      "\n",
      "Epoch:3\n",
      "Train: \n",
      " Accuracy = 71.8%, Avg Loss = 0.7377\n",
      " \n",
      "Test: \n",
      " Accuracy = 72.5%, Avg Loss = 0.7281 \n",
      "\n",
      "Epoch:4\n",
      "Train: \n",
      " Accuracy = 74.7%, Avg Loss = 0.6625\n",
      " \n",
      "Test: \n",
      " Accuracy = 75.2%, Avg Loss = 0.6558 \n",
      "\n",
      "Epoch:5\n",
      "Train: \n",
      " Accuracy = 76.9%, Avg Loss = 0.6077\n",
      " \n",
      "Test: \n",
      " Accuracy = 77.4%, Avg Loss = 0.6055 \n",
      "\n",
      "Epoch:6\n",
      "Train: \n",
      " Accuracy = 78.8%, Avg Loss = 0.5641\n",
      " \n",
      "Test: \n",
      " Accuracy = 79.0%, Avg Loss = 0.5811 \n",
      "\n",
      "Epoch:7\n",
      "Train: \n",
      " Accuracy = 80.3%, Avg Loss = 0.5273\n",
      " \n",
      "Test: \n",
      " Accuracy = 80.5%, Avg Loss = 0.5359 \n",
      "\n",
      "Epoch:8\n",
      "Train: \n",
      " Accuracy = 81.7%, Avg Loss = 0.4985\n",
      " \n",
      "Test: \n",
      " Accuracy = 80.7%, Avg Loss = 0.5170 \n",
      "\n",
      "Epoch:9\n",
      "Train: \n",
      " Accuracy = 82.5%, Avg Loss = 0.4750\n",
      " \n",
      "Test: \n",
      " Accuracy = 81.2%, Avg Loss = 0.5256 \n",
      "\n",
      "Epoch:10\n",
      "Train: \n",
      " Accuracy = 83.3%, Avg Loss = 0.4556\n",
      " \n",
      "Test: \n",
      " Accuracy = 82.6%, Avg Loss = 0.4739 \n",
      "\n",
      "Done!\n"
     ]
    }
   ],
   "source": [
    "for epoch in range(10):\n",
    "    print(f'Epoch:{epoch + 1}')\n",
    "    train_loop(train_dataloader, model, loss_fn, optimizer)\n",
    "    test_loop(test_dataloader, model, loss_fn)\n",
    "print(\"Done!\")"
   ]
  },
  {
   "cell_type": "code",
   "execution_count": 41,
   "metadata": {},
   "outputs": [
    {
     "data": {
      "image/png": "[encoded data removed]",
      "text/plain": [
       "<Figure size 1200x400 with 2 Axes>"
      ]
     },
     "metadata": {},
     "output_type": "display_data"
    }
   ],
   "source": [
    "plt.figure(figsize=(12, 4))\n",
    "\n",
    "plt.subplot(1, 2, 1)\n",
    "plt.plot(train_losses, label='Train Loss')\n",
    "plt.plot(test_losses, label='Test Loss')\n",
    "plt.xlabel('Epoch')\n",
    "plt.ylabel('Loss')\n",
    "plt.legend()\n",
    "plt.title('Loss over Epochs')\n",
    "\n",
    "plt.subplot(1, 2, 2)\n",
    "plt.plot(train_accs, label='Train Accuracy')\n",
    "plt.plot(test_accs, label='Test Accuracy')\n",
    "plt.xlabel('Epoch')\n",
    "plt.ylabel('Accuracy')\n",
    "plt.legend()\n",
    "plt.title('Accuracy over Epochs')\n",
    "\n",
    "plt.tight_layout()\n",
    "plt.savefig('../outputs/figures/training_metrics.png')\n",
    "\n",
    "plt.show()"
   ]
  },
  {
   "cell_type": "code",
   "execution_count": 42,
   "metadata": {},
   "outputs": [
    {
     "name": "stdout",
     "output_type": "stream",
     "text": [
      "Simple_CNN(\n",
      "  (conv1): Conv2d(1, 6, kernel_size=(5, 5), stride=(1, 1))\n",
      "  (conv2): Conv2d(6, 16, kernel_size=(5, 5), stride=(1, 1))\n",
      "  (linear1): Linear(in_features=256, out_features=120, bias=True)\n",
      "  (linear2): Linear(in_features=120, out_features=84, bias=True)\n",
      "  (linear3): Linear(in_features=84, out_features=10, bias=True)\n",
      ")\n"
     ]
    }
   ],
   "source": [
    "model_path = '../outputs/checkpoints/SimpleCNN.pth'\n",
    "print(model)\n",
    "torch.save(model.state_dict(), model_path)"
   ]
  }
 ],
 "metadata": {
  "kernelspec": {
   "display_name": "torch",
   "language": "python",
   "name": "python3"
  },
  "language_info": {
   "codemirror_mode": {
    "name": "ipython",
    "version": 3
   },
   "file_extension": ".py",
   "mimetype": "text/x-python",
   "name": "python",
   "nbconvert_exporter": "python",
   "pygments_lexer": "ipython3",
   "version": "3.10.13"
  },
  "orig_nbformat": 4
 },
 "nbformat": 4,
 "nbformat_minor": 2
}
