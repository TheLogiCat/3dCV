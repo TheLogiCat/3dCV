{
 "cells": [
  {
   "cell_type": "code",
   "execution_count": 81,
   "metadata": {},
   "outputs": [],
   "source": [
    "import torch\n",
    "from torch import nn\n",
    "from torch.utils.data import DataLoader\n",
    "from torchvision import datasets\n",
    "from torchvision.transforms import ToTensor\n",
    "import torchvision.models as models\n",
    "import torch.nn.functional as F\n",
    "import matplotlib.pyplot as plt"
   ]
  },
  {
   "cell_type": "code",
   "execution_count": 82,
   "metadata": {},
   "outputs": [],
   "source": [
    "# 创建训练和测试数据集\n",
    "train_data = datasets.FashionMNIST(root='../data/',\n",
    "                                    train=True,\n",
    "                                    transform=ToTensor(),\n",
    "                                    download=False)\n",
    "test_data = datasets.FashionMNIST(root='../data/', \n",
    "                                  train=False, \n",
    "                                  transform=ToTensor(),\n",
    "                                  download=False)"
   ]
  },
  {
   "cell_type": "code",
   "execution_count": 83,
   "metadata": {},
   "outputs": [],
   "source": [
    "# 创建DataLoader\n",
    "train_dataloader = DataLoader(train_data, batch_size=64, shuffle=True)\n",
    "test_dataloader = DataLoader(test_data, batch_size=64, shuffle=True)"
   ]
  },
  {
   "cell_type": "code",
   "execution_count": 84,
   "metadata": {},
   "outputs": [
    {
     "name": "stdout",
     "output_type": "stream",
     "text": [
      "simple_CNN(\n",
      "  (flatten): Flatten(start_dim=1, end_dim=-1)\n",
      "  (conv1): Conv2d(1, 6, kernel_size=(5, 5), stride=(1, 1))\n",
      "  (conv2): Conv2d(6, 16, kernel_size=(5, 5), stride=(1, 1))\n",
      "  (linear1): Linear(in_features=256, out_features=120, bias=True)\n",
      "  (linear2): Linear(in_features=120, out_features=84, bias=True)\n",
      "  (linear3): Linear(in_features=84, out_features=10, bias=True)\n",
      ")\n"
     ]
    }
   ],
   "source": [
    "# 定义一个简单的CNN网络\n",
    "class simple_CNN(nn.Module):\n",
    "    def __init__(self):\n",
    "        super().__init__()\n",
    "        self.flatten = nn.Flatten()\n",
    "        self.conv1 = nn.Conv2d(in_channels=1, out_channels=6, kernel_size=5)\n",
    "        self.conv2 = nn.Conv2d(in_channels=6, out_channels=16, kernel_size=5)\n",
    "        self.linear1 = nn.Linear(in_features=16 * 16, out_features=120)\n",
    "        self.linear2 = nn.Linear(in_features=120, out_features=84)\n",
    "        self.linear3 = nn.Linear(in_features=84, out_features=10)\n",
    "    \n",
    "    def forward(self, x):\n",
    "        # input(N, 1, 28, 28)\n",
    "        c1 = F.relu(self.conv1(x)) # (N, 6, 24, 24)\n",
    "        s2 = F.max_pool2d(c1, (2, 2)) # (N, 6, 12, 12)\n",
    "        c3 = F.relu(self.conv2(s2)) # (N, 16, 8, 8)\n",
    "        s4 = F.max_pool2d(c3, 2) # (N, 16, 4, 4)\n",
    "        s4_flattened = torch.flatten(s4, 1) # (N, 16 * 16)\n",
    "        f5 = F.relu(self.linear1(s4_flattened)) # (N, 120)\n",
    "        f6 = F.relu(self.linear2(f5)) # (N, 84)\n",
    "        logits = self.linear3(f6) # (N, 10)\n",
    "        return logits\n",
    "\n",
    "model = simple_CNN()\n",
    "print(model)\n",
    "        "
   ]
  },
  {
   "cell_type": "code",
   "execution_count": 85,
   "metadata": {},
   "outputs": [],
   "source": [
    "# 定义损失和优化器\n",
    "loss_fn = nn.CrossEntropyLoss()\n",
    "optimizer = torch.optim.SGD(model.parameters(), lr=0.01)"
   ]
  },
  {
   "cell_type": "code",
   "execution_count": 86,
   "metadata": {},
   "outputs": [],
   "source": [
    "# 训练网络\n",
    "batch_size = 64\n",
    "def train_loop(dataloader, model, loss_fn, optimizer):\n",
    "    model.train()\n",
    "    size = len(dataloader.dataset)\n",
    "    loss, accuracy = 0, 0\n",
    "\n",
    "    for img_idx, (image, label) in enumerate(dataloader):\n",
    "        pred = model(image)\n",
    "        loss = loss_fn(pred, label)\n",
    "\n",
    "        optimizer.zero_grad()\n",
    "        loss.backward()\n",
    "        optimizer.step()\n",
    "\n",
    "        if img_idx % 100 == 0:\n",
    "            loss, current = loss.item(), img_idx * batch_size + len(image)\n",
    "            accuracy += (pred.argmax(1) == label).type(torch.float).sum().item()\n",
    "            print(f'loss = {loss:>5f} [{current:>5d}/{size:>5d}]')\n",
    "    \n"
   ]
  },
  {
   "cell_type": "code",
   "execution_count": 87,
   "metadata": {},
   "outputs": [],
   "source": [
    "def test_loop(dataloader, model, loss_fn):\n",
    "    model.eval()\n",
    "    size = len(dataloader.dataset)\n",
    "    num_batches = len(dataloader)\n",
    "    loss, accuracy = 0, 0\n",
    "\n",
    "    with torch.no_grad():\n",
    "        for image, label in dataloader:\n",
    "            pred = model(image)\n",
    "            loss += loss_fn(pred, label).item()\n",
    "            accuracy += (pred.argmax(1) == label).type(torch.float).sum().item()\n",
    "\n",
    "    loss /= num_batches\n",
    "    accuracy /= size\n",
    "    print(f'Test Error: \\n Accuracy:{(100*accuracy):>0.1f}%, Avg loss:{loss:>8f} \\n')"
   ]
  },
  {
   "cell_type": "code",
   "execution_count": 88,
   "metadata": {},
   "outputs": [
    {
     "name": "stdout",
     "output_type": "stream",
     "text": [
      "Epoch:1\n",
      "loss = 2.300874 [   64/60000]\n",
      "loss = 2.305364 [ 6464/60000]\n",
      "loss = 2.295405 [12864/60000]\n",
      "loss = 2.295435 [19264/60000]\n",
      "loss = 2.293531 [25664/60000]\n",
      "loss = 2.275216 [32064/60000]\n",
      "loss = 2.255158 [38464/60000]\n",
      "loss = 2.190359 [44864/60000]\n",
      "loss = 1.784206 [51264/60000]\n",
      "loss = 1.243173 [57664/60000]\n",
      "Test Error: \n",
      " Accuracy:52.4%, Avg loss:1.154366 \n",
      "\n",
      "Epoch:2\n",
      "loss = 1.120431 [   64/60000]\n",
      "loss = 1.039873 [ 6464/60000]\n",
      "loss = 0.986027 [12864/60000]\n",
      "loss = 1.048869 [19264/60000]\n",
      "loss = 0.973168 [25664/60000]\n",
      "loss = 0.784739 [32064/60000]\n",
      "loss = 0.869435 [38464/60000]\n",
      "loss = 0.807244 [44864/60000]\n",
      "loss = 0.749585 [51264/60000]\n",
      "loss = 0.856343 [57664/60000]\n",
      "Test Error: \n",
      " Accuracy:68.5%, Avg loss:0.817646 \n",
      "\n",
      "Epoch:3\n",
      "loss = 0.888514 [   64/60000]\n",
      "loss = 0.693393 [ 6464/60000]\n",
      "loss = 0.618818 [12864/60000]\n",
      "loss = 0.922308 [19264/60000]\n",
      "loss = 0.680940 [25664/60000]\n",
      "loss = 0.702810 [32064/60000]\n",
      "loss = 0.493246 [38464/60000]\n",
      "loss = 0.791322 [44864/60000]\n",
      "loss = 0.598319 [51264/60000]\n",
      "loss = 0.794449 [57664/60000]\n",
      "Test Error: \n",
      " Accuracy:69.2%, Avg loss:0.800228 \n",
      "\n",
      "Epoch:4\n",
      "loss = 0.660560 [   64/60000]\n",
      "loss = 0.633730 [ 6464/60000]\n",
      "loss = 0.739870 [12864/60000]\n",
      "loss = 0.949824 [19264/60000]\n",
      "loss = 0.575171 [25664/60000]\n",
      "loss = 0.779832 [32064/60000]\n",
      "loss = 0.657748 [38464/60000]\n",
      "loss = 0.692445 [44864/60000]\n",
      "loss = 0.798758 [51264/60000]\n",
      "loss = 0.632691 [57664/60000]\n",
      "Test Error: \n",
      " Accuracy:76.5%, Avg loss:0.626084 \n",
      "\n",
      "Epoch:5\n",
      "loss = 0.775274 [   64/60000]\n",
      "loss = 0.781696 [ 6464/60000]\n",
      "loss = 0.603582 [12864/60000]\n",
      "loss = 0.464235 [19264/60000]\n",
      "loss = 0.500719 [25664/60000]\n",
      "loss = 0.809042 [32064/60000]\n",
      "loss = 0.546493 [38464/60000]\n",
      "loss = 0.442021 [44864/60000]\n",
      "loss = 0.710686 [51264/60000]\n",
      "loss = 0.649913 [57664/60000]\n",
      "Test Error: \n",
      " Accuracy:76.9%, Avg loss:0.616218 \n",
      "\n",
      "Done!\n"
     ]
    }
   ],
   "source": [
    "for epoch in range(5):\n",
    "    print(f'Epoch:{epoch + 1}')\n",
    "    train_loop(train_dataloader, model, loss_fn, optimizer)\n",
    "    test_loop(test_dataloader, model, loss_fn)\n",
    "print(\"Done!\")"
   ]
  }
 ],
 "metadata": {
  "kernelspec": {
   "display_name": "torch",
   "language": "python",
   "name": "python3"
  },
  "language_info": {
   "codemirror_mode": {
    "name": "ipython",
    "version": 3
   },
   "file_extension": ".py",
   "mimetype": "text/x-python",
   "name": "python",
   "nbconvert_exporter": "python",
   "pygments_lexer": "ipython3",
   "version": "3.10.13"
  },
  "orig_nbformat": 4
 },
 "nbformat": 4,
 "nbformat_minor": 2
}
