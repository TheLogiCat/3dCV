{
 "cells": [
  {
   "cell_type": "code",
   "execution_count": 2,
   "metadata": {},
   "outputs": [],
   "source": [
    "import numpy as np\n",
    "import torch"
   ]
  },
  {
   "cell_type": "code",
   "execution_count": 4,
   "metadata": {},
   "outputs": [
    {
     "data": {
      "text/plain": [
       "tensor([1, 2, 3])"
      ]
     },
     "execution_count": 4,
     "metadata": {},
     "output_type": "execute_result"
    }
   ],
   "source": [
    "torch.tensor([1, 2, 3])"
   ]
  },
  {
   "cell_type": "code",
   "execution_count": 5,
   "metadata": {},
   "outputs": [
    {
     "name": "stdout",
     "output_type": "stream",
     "text": [
      "tensor([1, 2, 3], dtype=torch.int32)\n"
     ]
    }
   ],
   "source": [
    "array = np.array([1, 2, 3])\n",
    "tensor = torch.from_numpy(array)\n",
    "print(tensor)"
   ]
  },
  {
   "cell_type": "code",
   "execution_count": 7,
   "metadata": {},
   "outputs": [
    {
     "name": "stdout",
     "output_type": "stream",
     "text": [
      "tensor([[1, 2, 3],\n",
      "        [4, 5, 6],\n",
      "        [7, 8, 9]]) torch.Size([3, 3])\n"
     ]
    }
   ],
   "source": [
    "tensor_2d = torch.tensor([[1, 2, 3], \n",
    "                          [4, 5, 6],\n",
    "                          [7, 8, 9]])\n",
    "print(tensor_2d, tensor_2d.shape)"
   ]
  },
  {
   "cell_type": "code",
   "execution_count": 8,
   "metadata": {},
   "outputs": [
    {
     "name": "stdout",
     "output_type": "stream",
     "text": [
      "tensor([[[ 1,  2,  3],\n",
      "         [ 4,  5,  6],\n",
      "         [ 7,  8,  9]],\n",
      "\n",
      "        [[11, 12, 13],\n",
      "         [14, 15, 16],\n",
      "         [17, 18, 19]],\n",
      "\n",
      "        [[-4, -3, -2],\n",
      "         [-1,  0,  1],\n",
      "         [ 2,  3,  4]]]) torch.Size([3, 3, 3])\n"
     ]
    }
   ],
   "source": [
    "# 创建 3D 张量（立方体）\n",
    "tensor_3d = torch.stack([tensor_2d, tensor_2d + 10, tensor_2d - 5])\n",
    "print(tensor_3d, tensor_3d.shape)"
   ]
  },
  {
   "cell_type": "code",
   "execution_count": 9,
   "metadata": {},
   "outputs": [
    {
     "name": "stdout",
     "output_type": "stream",
     "text": [
      "4D Tensor (Vector of Cubes):\n",
      " tensor([[[[  1,   2,   3],\n",
      "          [  4,   5,   6],\n",
      "          [  7,   8,   9]],\n",
      "\n",
      "         [[ 11,  12,  13],\n",
      "          [ 14,  15,  16],\n",
      "          [ 17,  18,  19]],\n",
      "\n",
      "         [[ -4,  -3,  -2],\n",
      "          [ -1,   0,   1],\n",
      "          [  2,   3,   4]]],\n",
      "\n",
      "\n",
      "        [[[101, 102, 103],\n",
      "          [104, 105, 106],\n",
      "          [107, 108, 109]],\n",
      "\n",
      "         [[111, 112, 113],\n",
      "          [114, 115, 116],\n",
      "          [117, 118, 119]],\n",
      "\n",
      "         [[ 96,  97,  98],\n",
      "          [ 99, 100, 101],\n",
      "          [102, 103, 104]]]])\n",
      "Shape: torch.Size([2, 3, 3, 3])\n"
     ]
    }
   ],
   "source": [
    "# 创建 4D 张量（向量的立方体）\n",
    "tensor_4d = torch.stack([tensor_3d, tensor_3d + 100])  # 堆叠 2 个 3D 张量\n",
    "print(\"4D Tensor (Vector of Cubes):\\n\", tensor_4d)\n",
    "print(\"Shape:\", tensor_4d.shape)  # 形状"
   ]
  },
  {
   "cell_type": "code",
   "execution_count": 15,
   "metadata": {},
   "outputs": [
    {
     "name": "stdout",
     "output_type": "stream",
     "text": [
      "5D Tensor (Matrix of Cubes):\n",
      " tensor([[[[[   1,    2,    3],\n",
      "           [   4,    5,    6],\n",
      "           [   7,    8,    9]],\n",
      "\n",
      "          [[  11,   12,   13],\n",
      "           [  14,   15,   16],\n",
      "           [  17,   18,   19]],\n",
      "\n",
      "          [[  -4,   -3,   -2],\n",
      "           [  -1,    0,    1],\n",
      "           [   2,    3,    4]]],\n",
      "\n",
      "\n",
      "         [[[ 101,  102,  103],\n",
      "           [ 104,  105,  106],\n",
      "           [ 107,  108,  109]],\n",
      "\n",
      "          [[ 111,  112,  113],\n",
      "           [ 114,  115,  116],\n",
      "           [ 117,  118,  119]],\n",
      "\n",
      "          [[  96,   97,   98],\n",
      "           [  99,  100,  101],\n",
      "           [ 102,  103,  104]]]],\n",
      "\n",
      "\n",
      "\n",
      "        [[[[1001, 1002, 1003],\n",
      "           [1004, 1005, 1006],\n",
      "           [1007, 1008, 1009]],\n",
      "\n",
      "          [[1011, 1012, 1013],\n",
      "           [1014, 1015, 1016],\n",
      "           [1017, 1018, 1019]],\n",
      "\n",
      "          [[ 996,  997,  998],\n",
      "           [ 999, 1000, 1001],\n",
      "           [1002, 1003, 1004]]],\n",
      "\n",
      "\n",
      "         [[[1101, 1102, 1103],\n",
      "           [1104, 1105, 1106],\n",
      "           [1107, 1108, 1109]],\n",
      "\n",
      "          [[1111, 1112, 1113],\n",
      "           [1114, 1115, 1116],\n",
      "           [1117, 1118, 1119]],\n",
      "\n",
      "          [[1096, 1097, 1098],\n",
      "           [1099, 1100, 1101],\n",
      "           [1102, 1103, 1104]]]]])\n",
      "Shape: torch.Size([2, 2, 3, 3, 3]) <built-in method dim of Tensor object at 0x000001D42B5C66B0>\n"
     ]
    }
   ],
   "source": [
    "# 创建 5D 张量（矩阵的立方体）\n",
    "tensor_5d = torch.stack([tensor_4d, tensor_4d + 1000])  # 堆叠 2 个 4D 张量\n",
    "print(\"5D Tensor (Matrix of Cubes):\\n\", tensor_5d)\n",
    "print(\"Shape:\", tensor_5d.shape, tensor_5d.dim)  # 形状"
   ]
  },
  {
   "cell_type": "code",
   "execution_count": 20,
   "metadata": {},
   "outputs": [
    {
     "data": {
      "text/plain": [
       "True"
      ]
     },
     "execution_count": 20,
     "metadata": {},
     "output_type": "execute_result"
    }
   ],
   "source": [
    "tensor_5d.is_contiguous()"
   ]
  },
  {
   "cell_type": "code",
   "execution_count": 21,
   "metadata": {},
   "outputs": [
    {
     "name": "stdout",
     "output_type": "stream",
     "text": [
      "tensor([[1., 2., 3.],\n",
      "        [4., 5., 6.]])\n",
      "torch.Size([2, 3])\n",
      "torch.Size([2, 3])\n",
      "torch.float32\n",
      "cpu\n",
      "2\n",
      "6\n",
      "False\n",
      "False\n",
      "True\n",
      "42\n",
      "tensor([[1., 4.],\n",
      "        [2., 5.],\n",
      "        [3., 6.]])\n"
     ]
    }
   ],
   "source": [
    "tensor = torch.tensor([[1, 2, 3], [4, 5, 6]], dtype=torch.float32)\n",
    "\n",
    "print(tensor)\n",
    "print(tensor.shape)\n",
    "print(tensor.size())\n",
    "print(tensor.dtype)\n",
    "print(tensor.device)\n",
    "print(tensor.dim())\n",
    "print(tensor.numel())\n",
    "print(tensor.requires_grad)\n",
    "print(tensor.is_cuda)\n",
    "print(tensor.is_contiguous())\n",
    "\n",
    "single_value = torch.tensor(42)\n",
    "print(single_value.item())\n",
    "\n",
    "tensor_T = tensor.T\n",
    "print(tensor_T)"
   ]
  },
  {
   "cell_type": "code",
   "execution_count": 28,
   "metadata": {},
   "outputs": [
    {
     "name": "stdout",
     "output_type": "stream",
     "text": [
      "原始张量:\n",
      " tensor([[1., 2., 3.],\n",
      "        [4., 5., 6.]])\n",
      "\n",
      "【索引和切片】\n",
      "获取第一行: tensor([1., 2., 3.])\n",
      "获取第一行第一列的元素: tensor(1.)\n",
      "获取第二列的所有元素: tensor([2., 5.])\n",
      "\n",
      "【形状变换】\n",
      "改变形状后的张量:\n",
      " tensor([[1., 2.],\n",
      "        [3., 4.],\n",
      "        [5., 6.]])\n",
      "展平后的张量:\n",
      " tensor([1., 2., 3., 4., 5., 6.])\n",
      "\n",
      "【数学运算】\n",
      "张量加 10:\n",
      " tensor([[11., 12., 13.],\n",
      "        [14., 15., 16.]])\n",
      "张量乘 2:\n",
      " tensor([[ 2.,  4.,  6.],\n",
      "        [ 8., 10., 12.]])\n",
      "张量元素的和: 21.0\n",
      "\n",
      "【与其他张量操作】\n",
      "另一个张量:\n",
      " tensor([[1., 1., 1.],\n",
      "        [1., 1., 1.]])\n",
      "矩阵乘法结果:\n",
      " tensor([[3., 3.],\n",
      "        [3., 3.]])\n",
      "tensor([[3., 3.],\n",
      "        [3., 3.]])\n",
      "\n",
      "【条件判断和筛选】\n",
      "大于 3 的元素的布尔掩码:\n",
      " tensor([[False, False, False],\n",
      "        [ True,  True,  True]])\n",
      "大于 3 的元素:\n",
      " tensor([4., 5., 6.])\n"
     ]
    }
   ],
   "source": [
    "# 创建一个 2D 张量\n",
    "tensor = torch.tensor([[1, 2, 3], [4, 5, 6]], dtype=torch.float32)\n",
    "print(\"原始张量:\\n\", tensor)\n",
    "\n",
    "# 1. **索引和切片操作**\n",
    "print(\"\\n【索引和切片】\")\n",
    "print(\"获取第一行:\", tensor[0])  # 获取第一行\n",
    "print(\"获取第一行第一列的元素:\", tensor[0, 0])  # 获取特定元素\n",
    "print(\"获取第二列的所有元素:\", tensor[:, 1])  # 获取第二列所有元素\n",
    "\n",
    "# 2. **形状变换操作**\n",
    "print(\"\\n【形状变换】\")\n",
    "reshaped = tensor.view(3, 2)  # 改变张量形状为 3x2\n",
    "print(\"改变形状后的张量:\\n\", reshaped)\n",
    "flattened = tensor.flatten()  # 将张量展平成一维\n",
    "print(\"展平后的张量:\\n\", flattened)\n",
    "\n",
    "# 3. **数学运算操作**\n",
    "print(\"\\n【数学运算】\")\n",
    "tensor_add = tensor + 10  # 张量加法\n",
    "print(\"张量加 10:\\n\", tensor_add)\n",
    "tensor_mul = tensor * 2  # 张量乘法\n",
    "print(\"张量乘 2:\\n\", tensor_mul)\n",
    "tensor_sum = tensor.sum()  # 计算所有元素的和\n",
    "print(\"张量元素的和:\", tensor_sum.item())\n",
    "\n",
    "# 4. **与其他张量的操作**\n",
    "print(\"\\n【与其他张量操作】\")\n",
    "tensor2 = torch.tensor([[1, 1, 1], [1, 1, 1]], dtype=torch.float32)\n",
    "print(\"另一个张量:\\n\", tensor2)\n",
    "tensor_dot = torch.matmul(tensor2, tensor2.T)  # 张量矩阵乘法\n",
    "print(\"矩阵乘法结果:\\n\", tensor_dot)\n",
    "print(tensor2 @ tensor2.T)\n",
    "\n",
    "# 5. **条件判断和筛选**\n",
    "print(\"\\n【条件判断和筛选】\")\n",
    "mask = tensor > 3  # 创建一个布尔掩码\n",
    "print(\"大于 3 的元素的布尔掩码:\\n\", mask)\n",
    "filtered_tensor = tensor[tensor > 3]  # 筛选出符合条件的元素\n",
    "print(\"大于 3 的元素:\\n\", filtered_tensor)\n"
   ]
  },
  {
   "cell_type": "code",
   "execution_count": 31,
   "metadata": {},
   "outputs": [
    {
     "data": {
      "text/plain": [
       "(True, device(type='cuda', index=0))"
      ]
     },
     "execution_count": 31,
     "metadata": {},
     "output_type": "execute_result"
    }
   ],
   "source": [
    "# GPU加速\n",
    "device = torch.device('cuda' if torch.cuda.is_available() else 'cpu')\n",
    "x = torch.tensor([1, 2, 3], device=device)\n",
    "x.is_cuda, x.device"
   ]
  },
  {
   "cell_type": "code",
   "execution_count": 32,
   "metadata": {},
   "outputs": [
    {
     "data": {
      "text/plain": [
       "device(type='cpu')"
      ]
     },
     "execution_count": 32,
     "metadata": {},
     "output_type": "execute_result"
    }
   ],
   "source": []
  },
  {
   "cell_type": "code",
   "execution_count": 35,
   "metadata": {},
   "outputs": [
    {
     "name": "stdout",
     "output_type": "stream",
     "text": [
      "[[1 2 3]\n",
      " [4 5 6]]\n",
      "tensor([[1, 2, 3],\n",
      "        [4, 5, 6]], dtype=torch.int32)\n",
      "tensor([[100,   2,   3],\n",
      "        [  4,   5,   6]], dtype=torch.int32)\n"
     ]
    }
   ],
   "source": [
    "# Tensor与numpy相互转换操作\n",
    "numpy_array = np.array([[1, 2, 3], [4, 5, 6]])\n",
    "print(numpy_array)\n",
    "tensor_from_numpy = torch.from_numpy(numpy_array)\n",
    "print(tensor_from_numpy)\n",
    "\n",
    "numpy_array[0, 0] = 100\n",
    "print(tensor_from_numpy)"
   ]
  },
  {
   "cell_type": "code",
   "execution_count": 37,
   "metadata": {},
   "outputs": [
    {
     "name": "stdout",
     "output_type": "stream",
     "text": [
      "[[ 7.  8.  9.]\n",
      " [10. 11. 12.]]\n",
      "[[100.   8.   9.]\n",
      " [ 10.  11.  12.]]\n"
     ]
    }
   ],
   "source": [
    "tensor = torch.tensor([[7, 8, 9], [10, 11, 12]], dtype=torch.float32)\n",
    "numpy_from_tensor = tensor.numpy()\n",
    "print(numpy_from_tensor)\n",
    "\n",
    "tensor[0, 0] = 100\n",
    "print(numpy_from_tensor)"
   ]
  },
  {
   "cell_type": "code",
   "execution_count": 38,
   "metadata": {},
   "outputs": [
    {
     "name": "stdout",
     "output_type": "stream",
     "text": [
      "tensor([[13., 14., 15.],\n",
      "        [16., 17., 18.]]) [[13. 14. 15.]\n",
      " [16. 17. 18.]]\n",
      "[[13. 14. 15.]\n",
      " [16. 17. 18.]]\n"
     ]
    }
   ],
   "source": [
    "tensor_independent = torch.tensor([[13, 14, 15], [16, 17, 18]], dtype=torch.float32)\n",
    "numpy_independent = tensor_independent.clone().numpy()\n",
    "print(tensor_independent, numpy_independent)\n",
    "\n",
    "tensor_independent[0, 0] = 100\n",
    "print(numpy_independent)"
   ]
  }
 ],
 "metadata": {
  "kernelspec": {
   "display_name": "torch",
   "language": "python",
   "name": "python3"
  },
  "language_info": {
   "codemirror_mode": {
    "name": "ipython",
    "version": 3
   },
   "file_extension": ".py",
   "mimetype": "text/x-python",
   "name": "python",
   "nbconvert_exporter": "python",
   "pygments_lexer": "ipython3",
   "version": "3.10.13"
  },
  "orig_nbformat": 4
 },
 "nbformat": 4,
 "nbformat_minor": 2
}
