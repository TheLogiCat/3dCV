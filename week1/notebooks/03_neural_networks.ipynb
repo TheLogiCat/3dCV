{
 "cells": [
  {
   "cell_type": "code",
   "execution_count": 1,
   "metadata": {},
   "outputs": [],
   "source": [
    "import os\n",
    "import torch\n",
    "from torch import nn\n",
    "from torch.utils.data import DataLoader\n",
    "from torchvision import datasets, transforms"
   ]
  },
  {
   "cell_type": "code",
   "execution_count": 4,
   "metadata": {},
   "outputs": [
    {
     "name": "stdout",
     "output_type": "stream",
     "text": [
      "Using cuda device\n"
     ]
    }
   ],
   "source": [
    "device = torch.device('cuda' if torch.cuda.is_available() else 'cpu')\n",
    "print(f\"Using {device} device\")"
   ]
  },
  {
   "cell_type": "code",
   "execution_count": 5,
   "metadata": {},
   "outputs": [],
   "source": [
    "class NeuralNetwork(nn.Module):\n",
    "    def __init__(self):\n",
    "        super().__init__()\n",
    "        self.flatten = nn.Flatten()\n",
    "        self.linear_relu_stack = nn.Sequential(\n",
    "            nn.Linear(28*28, 512),\n",
    "            nn.ReLU(),\n",
    "            nn.Linear(512, 512),\n",
    "            nn.ReLU(),\n",
    "            nn.Linear(512, 10)\n",
    "        )\n",
    "\n",
    "    def forward(self, x):\n",
    "        x = self.flatten(x)\n",
    "        logits = self.linear_relu_stack(x)\n",
    "        return logits\n"
   ]
  },
  {
   "cell_type": "code",
   "execution_count": 6,
   "metadata": {},
   "outputs": [
    {
     "name": "stdout",
     "output_type": "stream",
     "text": [
      "NeuralNetwork(\n",
      "  (flatten): Flatten(start_dim=1, end_dim=-1)\n",
      "  (linear_relu_stack): Sequential(\n",
      "    (0): Linear(in_features=784, out_features=512, bias=True)\n",
      "    (1): ReLU()\n",
      "    (2): Linear(in_features=512, out_features=512, bias=True)\n",
      "    (3): ReLU()\n",
      "    (4): Linear(in_features=512, out_features=10, bias=True)\n",
      "  )\n",
      ")\n"
     ]
    }
   ],
   "source": [
    "model = NeuralNetwork().to(device)\n",
    "print(model)"
   ]
  },
  {
   "cell_type": "code",
   "execution_count": 7,
   "metadata": {},
   "outputs": [
    {
     "name": "stdout",
     "output_type": "stream",
     "text": [
      "tensor([4], device='cuda:0')\n"
     ]
    }
   ],
   "source": [
    "X = torch.rand(1, 28, 28, device=device)\n",
    "logits = model(X)\n",
    "pred_probab = nn.Softmax(dim=1)(logits)\n",
    "y_pred = pred_probab.argmax(1)\n",
    "print(y_pred)"
   ]
  },
  {
   "cell_type": "code",
   "execution_count": 9,
   "metadata": {},
   "outputs": [
    {
     "name": "stdout",
     "output_type": "stream",
     "text": [
      "layer:linear_relu_stack.0.weight | Size:torch.Size([512, 784]) | Values:[tensor([[-0.0255,  0.0223,  0.0275,  ..., -0.0046,  0.0083,  0.0059],\n",
      "        [-0.0251,  0.0009,  0.0316,  ..., -0.0129, -0.0116, -0.0111]],\n",
      "       device='cuda:0', grad_fn=<SliceBackward0>)]\n",
      "layer:linear_relu_stack.0.bias | Size:torch.Size([512]) | Values:[tensor([0.0330, 0.0233], device='cuda:0', grad_fn=<SliceBackward0>)]\n",
      "layer:linear_relu_stack.2.weight | Size:torch.Size([512, 512]) | Values:[tensor([[-0.0104,  0.0003,  0.0156,  ...,  0.0114, -0.0166,  0.0366],\n",
      "        [-0.0198,  0.0145,  0.0001,  ...,  0.0357, -0.0385, -0.0427]],\n",
      "       device='cuda:0', grad_fn=<SliceBackward0>)]\n",
      "layer:linear_relu_stack.2.bias | Size:torch.Size([512]) | Values:[tensor([-0.0174, -0.0237], device='cuda:0', grad_fn=<SliceBackward0>)]\n",
      "layer:linear_relu_stack.4.weight | Size:torch.Size([10, 512]) | Values:[tensor([[ 0.0218,  0.0130,  0.0239,  ...,  0.0332, -0.0152,  0.0406],\n",
      "        [-0.0141, -0.0241, -0.0414,  ...,  0.0350, -0.0389,  0.0279]],\n",
      "       device='cuda:0', grad_fn=<SliceBackward0>)]\n",
      "layer:linear_relu_stack.4.bias | Size:torch.Size([10]) | Values:[tensor([-0.0016,  0.0241], device='cuda:0', grad_fn=<SliceBackward0>)]\n"
     ]
    }
   ],
   "source": [
    "for name, param in model.named_parameters():\n",
    "    print(f\"layer:{name} | Size:{param.size()} | Values:{[param[:2]]}\")"
   ]
  },
  {
   "cell_type": "code",
   "execution_count": null,
   "metadata": {},
   "outputs": [],
   "source": []
  }
 ],
 "metadata": {
  "kernelspec": {
   "display_name": "torch",
   "language": "python",
   "name": "python3"
  },
  "language_info": {
   "codemirror_mode": {
    "name": "ipython",
    "version": 3
   },
   "file_extension": ".py",
   "mimetype": "text/x-python",
   "name": "python",
   "nbconvert_exporter": "python",
   "pygments_lexer": "ipython3",
   "version": "3.10.13"
  },
  "orig_nbformat": 4
 },
 "nbformat": 4,
 "nbformat_minor": 2
}
