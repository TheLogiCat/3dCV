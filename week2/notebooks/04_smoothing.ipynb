{
 "cells": [
  {
   "cell_type": "code",
   "execution_count": 1,
   "metadata": {},
   "outputs": [],
   "source": [
    "import cv2\n",
    "import numpy as np"
   ]
  },
  {
   "cell_type": "code",
   "execution_count": 7,
   "metadata": {},
   "outputs": [],
   "source": [
    "img = cv2.imread('../data/fox.jpg')\n",
    "img = cv2.resize(img, (400, 600))\n",
    "\n",
    "# 均值滤波\n",
    "# 将图像中每个像素的值替换为其周围像素的平均值\n",
    "blurred_img = cv2.blur(img, (5, 5))\n",
    "\n",
    "cv2.imshow('Blurred Image', blurred_img)\n",
    "cv2.waitKey(0)\n",
    "cv2.destroyAllWindows()"
   ]
  },
  {
   "cell_type": "code",
   "execution_count": 8,
   "metadata": {},
   "outputs": [],
   "source": [
    "# 高斯滤波\n",
    "# 高斯滤波在计算像素平均值时，会给中心像素赋予更高的权重，而给边缘像素赋予较低的权重\n",
    "blurred_img = cv2.GaussianBlur(img, (5, 5), 0)\n",
    "cv2.imshow('Gaussian Blurred Image', blurred_img)\n",
    "cv2.waitKey(0)\n",
    "cv2.destroyAllWindows()"
   ]
  },
  {
   "cell_type": "code",
   "execution_count": 9,
   "metadata": {},
   "outputs": [],
   "source": [
    "# 中值滤波\n",
    "# 将图像中每个像素的值替换为其周围像素的中值\n",
    "blurred_img = cv2.medianBlur(blurred_img, 5)\n",
    "cv2.imshow('Median Blurred Image', blurred_img)\n",
    "cv2.waitKey(0)\n",
    "cv2.destroyAllWindows()"
   ]
  },
  {
   "cell_type": "code",
   "execution_count": null,
   "metadata": {},
   "outputs": [],
   "source": [
    "# 双边滤波\n",
    "# 非线性的平滑处理方法，它结合了空间邻近度和像素值相似度\n",
    "blurred_img = cv2.bilateralFilter(blurred_img, 9, 75, 75)\n",
    "cv2.imshow('Bilateral Filtered Image', blurred_img)\n",
    "cv2.waitKey(0)\n",
    "cv2.destroyAllWindows()"
   ]
  }
 ],
 "metadata": {
  "kernelspec": {
   "display_name": "torch",
   "language": "python",
   "name": "python3"
  },
  "language_info": {
   "codemirror_mode": {
    "name": "ipython",
    "version": 3
   },
   "file_extension": ".py",
   "mimetype": "text/x-python",
   "name": "python",
   "nbconvert_exporter": "python",
   "pygments_lexer": "ipython3",
   "version": "3.10.13"
  },
  "orig_nbformat": 4
 },
 "nbformat": 4,
 "nbformat_minor": 2
}
