{
 "cells": [
  {
   "cell_type": "code",
   "execution_count": 1,
   "metadata": {},
   "outputs": [],
   "source": [
    "import cv2"
   ]
  },
  {
   "cell_type": "code",
   "execution_count": 2,
   "metadata": {},
   "outputs": [
    {
     "name": "stdout",
     "output_type": "stream",
     "text": [
      "(6000, 4000, 3)\n"
     ]
    }
   ],
   "source": [
    "image_path = '../data/fox.jpg'\n",
    "image = cv2.imread(image_path)\n",
    "print(image.shape) # image[H, W, C]\n",
    "\n",
    "if image is None:\n",
    "    print(\"错误：无法加载图像，请检查路径是否正确\")\n",
    "    exit()\n",
    "\n",
    "cv2.imshow('display image', image)\n",
    "key = cv2.waitKey(0)\n",
    "\n",
    "if key == ord('s'):\n",
    "    output_path = 'saved_image.jpg'\n",
    "    cv2.imwrite(output_path, image)\n",
    "    print(f\"图像已保存为：{output_path}\")\n",
    "else:\n",
    "    print(\"图像未保存\")\n",
    "\n",
    "cv2.destroyAllWindows()"
   ]
  },
  {
   "cell_type": "code",
   "execution_count": 5,
   "metadata": {},
   "outputs": [],
   "source": [
    "# 对图像进行等比例缩放\n",
    "def image_resize(image, max_w = 1280, max_h = 720):\n",
    "    h, w = image.shape[:2]\n",
    "    scale = min(max_w / w, max_h / h, 1.0)\n",
    "    new_size = (int(w * scale), int(h * scale)) # 按比例缩放\n",
    "    if scale < 1.0:\n",
    "        new_image = cv2.resize(image, new_size, interpolation=cv2.INTER_AREA)\n",
    "    else:\n",
    "        new_image = image\n",
    "    cv2.imshow('img', new_image)\n",
    "    cv2.waitKey(0)\n",
    "    cv2.destroyAllWindows()\n"
   ]
  },
  {
   "cell_type": "code",
   "execution_count": 6,
   "metadata": {},
   "outputs": [],
   "source": [
    "img = cv2.imread('fox.jpg')\n",
    "image_resize(img)"
   ]
  },
  {
   "cell_type": "code",
   "execution_count": 8,
   "metadata": {},
   "outputs": [],
   "source": [
    "import numpy as np"
   ]
  },
  {
   "cell_type": "code",
   "execution_count": null,
   "metadata": {},
   "outputs": [],
   "source": [
    "b, g, r = cv2.split(img)\n",
    "merged_img = cv2.merge([b, g, r])"
   ]
  },
  {
   "cell_type": "code",
   "execution_count": null,
   "metadata": {},
   "outputs": [],
   "source": [
    "h, w = img.shape[:2]\n",
    "center = (w // 2, h // 2)\n",
    "rotation_matrix = cv2.getRotationMatrix2D(center, angle=45, scale=0.5)\n",
    "rotated_img = cv2.warpAffine(img, rotation_matrix, (w, h))\n",
    "\n",
    "resized_img = image_resize(img)\n",
    "resized_rorated_img = image_resize(rotated_img)\n",
    "cv2.imshow('original', resized_img)\n",
    "cv2.imshow('rotated', resized_rorated_img)\n",
    "cv2.waitKey(0)\n",
    "cv2.destroyAllWindows()"
   ]
  },
  {
   "cell_type": "code",
   "execution_count": null,
   "metadata": {},
   "outputs": [],
   "source": [
    "thresh, maxval = 127, 255\n",
    "gray_img = cv2.imread('fox.jpg', cv2.IMREAD_GRAYSCALE)\n",
    "# 原图像素若高于thresh则设置为maxval，若小于thresh则为0\n",
    "ret, binary_image = cv2.threshold(gray_img, thresh, maxval, cv2.THRESH_BINARY)\n",
    "resized_image = image_resize(binary_image)\n",
    "cv2.imshow('Binary', resized_image)\n",
    "cv2.waitKey(0)\n",
    "cv2.destroyAllWindows()\n"
   ]
  },
  {
   "cell_type": "code",
   "execution_count": 24,
   "metadata": {},
   "outputs": [
    {
     "ename": "error",
     "evalue": "OpenCV(4.8.1) D:\\a\\opencv-python\\opencv-python\\opencv\\modules\\highgui\\src\\window.cpp:971: error: (-215:Assertion failed) size.width>0 && size.height>0 in function 'cv::imshow'\n",
     "output_type": "error",
     "traceback": [
      "\u001b[1;31m---------------------------------------------------------------------------\u001b[0m",
      "\u001b[1;31merror\u001b[0m                                     Traceback (most recent call last)",
      "Cell \u001b[1;32mIn[24], line 3\u001b[0m\n\u001b[0;32m      1\u001b[0m blurred_image \u001b[39m=\u001b[39m cv2\u001b[39m.\u001b[39mGaussianBlur(image, (\u001b[39m5\u001b[39m, \u001b[39m5\u001b[39m), sigmaX\u001b[39m=\u001b[39m\u001b[39m1.0\u001b[39m)\n\u001b[0;32m      2\u001b[0m resized_image \u001b[39m=\u001b[39m image_resize(blurred_image)\n\u001b[1;32m----> 3\u001b[0m cv2\u001b[39m.\u001b[39;49mimshow(\u001b[39m'\u001b[39;49m\u001b[39mBinary\u001b[39;49m\u001b[39m'\u001b[39;49m, resized_image)\n\u001b[0;32m      4\u001b[0m cv2\u001b[39m.\u001b[39mwaitKey(\u001b[39m0\u001b[39m)\n\u001b[0;32m      5\u001b[0m cv2\u001b[39m.\u001b[39mdestroyAllWindows()\n",
      "\u001b[1;31merror\u001b[0m: OpenCV(4.8.1) D:\\a\\opencv-python\\opencv-python\\opencv\\modules\\highgui\\src\\window.cpp:971: error: (-215:Assertion failed) size.width>0 && size.height>0 in function 'cv::imshow'\n"
     ]
    }
   ],
   "source": [
    "blurred_image = cv2.GaussianBlur(image, (5, 5), sigmaX=1.0)\n",
    "resized_image = image_resize(blurred_image)\n",
    "cv2.imshow('Binary', resized_image)\n",
    "cv2.waitKey(0)\n",
    "cv2.destroyAllWindows()"
   ]
  },
  {
   "cell_type": "code",
   "execution_count": null,
   "metadata": {},
   "outputs": [],
   "source": []
  }
 ],
 "metadata": {
  "kernelspec": {
   "display_name": "torch",
   "language": "python",
   "name": "python3"
  },
  "language_info": {
   "codemirror_mode": {
    "name": "ipython",
    "version": 3
   },
   "file_extension": ".py",
   "mimetype": "text/x-python",
   "name": "python",
   "nbconvert_exporter": "python",
   "pygments_lexer": "ipython3",
   "version": "3.10.13"
  },
  "orig_nbformat": 4
 },
 "nbformat": 4,
 "nbformat_minor": 2
}
