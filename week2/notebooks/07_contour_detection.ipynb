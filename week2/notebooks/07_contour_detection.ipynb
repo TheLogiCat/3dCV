{
 "cells": [
  {
   "cell_type": "code",
   "execution_count": 1,
   "metadata": {},
   "outputs": [],
   "source": [
    "import cv2\n",
    "import numpy as np"
   ]
  },
  {
   "cell_type": "code",
   "execution_count": 2,
   "metadata": {},
   "outputs": [],
   "source": [
    "image = cv2.imread('../data/fox.jpg', 0)\n",
    "image = cv2.resize(image, (400, 600))"
   ]
  },
  {
   "cell_type": "code",
   "execution_count": 3,
   "metadata": {},
   "outputs": [],
   "source": [
    "# 轮廓检测\n",
    "# 需要先将图片二值化\n",
    "_, binary = cv2.threshold(image, 127, 255, cv2.THRESH_BINARY)"
   ]
  },
  {
   "cell_type": "code",
   "execution_count": null,
   "metadata": {},
   "outputs": [],
   "source": [
    "# 使用cv2.findContours函数提取轮廓\n",
    "# contours: 输出的轮廓列表，每个轮廓是一个点集。\n",
    "# hierarchy: 输出的层次结构信息。\n",
    "contours, hierarchy = cv2.findContours(binary, cv2.RETR_TREE, cv2.CHAIN_APPROX_SIMPLE)\n",
    "print(contours, hierarchy)"
   ]
  },
  {
   "cell_type": "code",
   "execution_count": 7,
   "metadata": {},
   "outputs": [],
   "source": [
    "# 新建与图像大小相同的画布\n",
    "output = np.zeros_like(image)\n",
    "\n",
    "# 使用drawContours()画出轮廓\n",
    "cv2.drawContours(output, contours, -1, (255, 0, 0), 2)\n",
    "cv2.imshow('Contours', output)\n",
    "cv2.waitKey(0)\n",
    "cv2.destroyAllWindows()"
   ]
  },
  {
   "cell_type": "code",
   "execution_count": 9,
   "metadata": {},
   "outputs": [
    {
     "name": "stdout",
     "output_type": "stream",
     "text": [
      "Contour area:170562.0\n"
     ]
    }
   ],
   "source": [
    "# 计算轮廓面积\n",
    "area = 0\n",
    "for contour in contours:\n",
    "    area += cv2.contourArea(contour)\n",
    "print(f'Contour area:{area}')"
   ]
  }
 ],
 "metadata": {
  "kernelspec": {
   "display_name": "torch",
   "language": "python",
   "name": "python3"
  },
  "language_info": {
   "codemirror_mode": {
    "name": "ipython",
    "version": 3
   },
   "file_extension": ".py",
   "mimetype": "text/x-python",
   "name": "python",
   "nbconvert_exporter": "python",
   "pygments_lexer": "ipython3",
   "version": "3.10.13"
  },
  "orig_nbformat": 4
 },
 "nbformat": 4,
 "nbformat_minor": 2
}
