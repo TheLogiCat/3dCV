{
 "cells": [
  {
   "cell_type": "code",
   "execution_count": 9,
   "metadata": {},
   "outputs": [],
   "source": [
    "import cv2\n",
    "import numpy as np"
   ]
  },
  {
   "cell_type": "code",
   "execution_count": 10,
   "metadata": {},
   "outputs": [],
   "source": [
    "image = cv2.imread('../data/fox.jpg', 0)\n",
    "image = cv2.resize(image, (400, 600))"
   ]
  },
  {
   "cell_type": "code",
   "execution_count": 11,
   "metadata": {},
   "outputs": [],
   "source": [
    "kernel = np.ones((5, 5), np.int8)"
   ]
  },
  {
   "cell_type": "code",
   "execution_count": 12,
   "metadata": {},
   "outputs": [],
   "source": [
    "# 腐蚀\n",
    "# 腐蚀操作是一种缩小图像中前景对象的过程。\n",
    "# 用于去除噪声或分离连接的对象\n",
    "eroded_image = cv2.erode(image, kernel, iterations=1)\n",
    "cv2.imshow('Eroded Image', eroded_image)\n",
    "cv2.waitKey(0)\n",
    "cv2.destroyAllWindows()"
   ]
  },
  {
   "cell_type": "code",
   "execution_count": 13,
   "metadata": {},
   "outputs": [],
   "source": [
    "# 膨胀\n",
    "# 是一种扩大图像中前景对象的过程。\n",
    "# 填补前景对象中的空洞或连接断裂的对象。\n",
    "dilated_image = cv2.dilate(image, kernel, iterations=1)\n",
    "cv2.imshow('Dilated Image', dilated_image)\n",
    "cv2.waitKey(0)\n",
    "cv2.destroyAllWindows()"
   ]
  },
  {
   "cell_type": "code",
   "execution_count": 18,
   "metadata": {},
   "outputs": [],
   "source": [
    "subtract_image = eroded_image - dilated_image\n",
    "cv2.imshow('Subtract Image', subtract_image)\n",
    "cv2.waitKey(0)\n",
    "cv2.destroyAllWindows()"
   ]
  },
  {
   "cell_type": "code",
   "execution_count": 14,
   "metadata": {},
   "outputs": [],
   "source": [
    "# 开运算\n",
    "# 先腐蚀后膨胀的组合操作\n",
    "# 可以去除图像中的小噪声，同时保留图像中的主要前景对象。\n",
    "opened_image = cv2.morphologyEx(image, cv2.MORPH_OPEN, kernel)\n",
    "cv2.imshow('Opened Image', opened_image)\n",
    "cv2.waitKey(0)\n",
    "cv2.destroyAllWindows()"
   ]
  },
  {
   "cell_type": "code",
   "execution_count": 16,
   "metadata": {},
   "outputs": [],
   "source": [
    "# 闭运算\n",
    "# 先膨胀后腐蚀的组合操作\n",
    "# 用于填补前景对象中的小孔或连接断裂的对象。\n",
    "closed_image = cv2.morphologyEx(image, cv2.MORPH_CLOSE, kernel)\n",
    "cv2.imshow('Cloese Image', closed_image)\n",
    "cv2.waitKey(0)\n",
    "cv2.destroyAllWindows()"
   ]
  },
  {
   "cell_type": "code",
   "execution_count": 19,
   "metadata": {},
   "outputs": [],
   "source": [
    "# 形态学梯度\n",
    "# 是膨胀图像与腐蚀图像的差值\n",
    "# 主要用于提取图像中前景对象的边缘。\n",
    "gradient_image = cv2.morphologyEx(image, cv2.MORPH_GRADIENT, kernel)\n",
    "cv2.imshow('Gradient Image', gradient_image)\n",
    "cv2.waitKey(0)\n",
    "cv2.destroyAllWindows()"
   ]
  }
 ],
 "metadata": {
  "kernelspec": {
   "display_name": "torch",
   "language": "python",
   "name": "python3"
  },
  "language_info": {
   "codemirror_mode": {
    "name": "ipython",
    "version": 3
   },
   "file_extension": ".py",
   "mimetype": "text/x-python",
   "name": "python",
   "nbconvert_exporter": "python",
   "pygments_lexer": "ipython3",
   "version": "3.10.13"
  },
  "orig_nbformat": 4
 },
 "nbformat": 4,
 "nbformat_minor": 2
}
