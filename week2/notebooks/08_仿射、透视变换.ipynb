{
 "cells": [
  {
   "cell_type": "code",
   "execution_count": 11,
   "metadata": {},
   "outputs": [],
   "source": [
    "import cv2\n",
    "import numpy as np"
   ]
  },
  {
   "cell_type": "code",
   "execution_count": 12,
   "metadata": {},
   "outputs": [],
   "source": [
    "image = cv2.imread('../data/road.png')\n",
    "cv2.imshow('image', image)\n",
    "cv2.waitKey(0)\n",
    "cv2.destroyAllWindows()"
   ]
  },
  {
   "cell_type": "code",
   "execution_count": 13,
   "metadata": {},
   "outputs": [],
   "source": [
    "height, width = image.shape[:2]"
   ]
  },
  {
   "cell_type": "code",
   "execution_count": 14,
   "metadata": {},
   "outputs": [],
   "source": [
    "# 定义原始图像的四个点\n",
    "src_points = np.float32([\n",
    "    [0, 0],\n",
    "    [width - 1, 0],\n",
    "    [width - 1, height - 1],\n",
    "    [0, height - 1]\n",
    "])\n",
    "\n",
    "# 设置偏移量，创建一个简单的透视效果\n",
    "offset = 200\n",
    "dst_points = np.float32([\n",
    "    [offset, offset],                           # 新左上角\n",
    "    [width - 1 - offset, offset],              # 新右上角\n",
    "    [width - 1, height - 1],                   # 新右下角\n",
    "    [0, height - 1] \n",
    "])"
   ]
  },
  {
   "cell_type": "code",
   "execution_count": 15,
   "metadata": {},
   "outputs": [],
   "source": [
    "# 计算透视变换矩阵，需要四对点才能计算\n",
    "matrix = cv2.getPerspectiveTransform(src_points, dst_points)"
   ]
  },
  {
   "cell_type": "code",
   "execution_count": 16,
   "metadata": {},
   "outputs": [],
   "source": [
    "# 对图像应用透视变换\n",
    "transformed_img = cv2.warpPerspective(image, matrix, (width, height))\n",
    "cv2.imshow('image', transformed_img)\n",
    "cv2.waitKey(0)\n",
    "cv2.destroyAllWindows()"
   ]
  }
 ],
 "metadata": {
  "kernelspec": {
   "display_name": "torch",
   "language": "python",
   "name": "python3"
  },
  "language_info": {
   "codemirror_mode": {
    "name": "ipython",
    "version": 3
   },
   "file_extension": ".py",
   "mimetype": "text/x-python",
   "name": "python",
   "nbconvert_exporter": "python",
   "pygments_lexer": "ipython3",
   "version": "3.10.13"
  },
  "orig_nbformat": 4
 },
 "nbformat": 4,
 "nbformat_minor": 2
}
